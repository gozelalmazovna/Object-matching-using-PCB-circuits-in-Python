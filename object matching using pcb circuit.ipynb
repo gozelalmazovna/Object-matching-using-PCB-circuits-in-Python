{
 "cells": [
  {
   "cell_type": "markdown",
   "metadata": {},
   "source": [
    "## Credentials\n",
    "\n",
    "github: gozelalmazovna\n",
    "\n",
    "You can change the code however you want, have fun!\n",
    "\n",
    "### Import libraries"
   ]
  },
  {
   "cell_type": "code",
   "execution_count": 1,
   "metadata": {},
   "outputs": [],
   "source": [
    "import cv2\n",
    "import numpy as np"
   ]
  },
  {
   "cell_type": "code",
   "execution_count": 2,
   "metadata": {},
   "outputs": [],
   "source": [
    "#Modified algorithm for iou that returns True if there is no overlap else returns False\n",
    "def calculate_iou(a, b, small):\n",
    "    x1 = max(a[0], b[0])\n",
    "    y1 = max(a[1], b[1])\n",
    "    x2 = min(a[2], b[2])\n",
    "    y2 = min(a[3], b[3])\n",
    "\n",
    "    width = (x2 - x1)\n",
    "    height = (y2 - y1)\n",
    "\n",
    "    if (width<0) or (height <0):\n",
    "        return 0.0\n",
    "    area_overlap = width * height\n",
    "\n",
    "    area_a = (a[2] - a[0]) * (a[3] - a[1])\n",
    "    area_b = (b[2] - b[0]) * (b[3] - b[1])\n",
    "    area_combined = area_a + area_b - area_overlap\n",
    "\n",
    "    iou = area_overlap / (area_combined+small)\n",
    "\n",
    "    if iou > 0.2:\n",
    "        return True\n",
    "    else:\n",
    "        return False"
   ]
  },
  {
   "cell_type": "code",
   "execution_count": 3,
   "metadata": {},
   "outputs": [],
   "source": [
    "#Funtion for implementation of iou for every template\n",
    "def iou_implement(result,threshold,w,h):\n",
    "    new_loc = []\n",
    "\n",
    "    #Take the locations where result is bigger or equal to the threshold\n",
    "    loc = np.where(result >= threshold)\n",
    "\n",
    "    #Then we go through image iteration by part\n",
    "    for pta in zip(*loc[::-1]):\n",
    "        a = [pta[0],pta[1] ,pta[0] + w, pta[1] + h]\n",
    "\n",
    "        for ptb in zip(*loc[::-1]):\n",
    "            b= [ptb[0],ptb[1] ,ptb[0] + w, ptb[1] + h]\n",
    "\n",
    "            if calculate_iou(a,b,0.0001) is True:\n",
    "                if ptb not in new_loc:\n",
    "                    new_loc.append(ptb)\n",
    "\n",
    "    return new_loc"
   ]
  },
  {
   "cell_type": "code",
   "execution_count": 4,
   "metadata": {},
   "outputs": [],
   "source": [
    "#Read the image\n",
    "img_rgb = cv2.imread('fullImage.jpg')\n",
    "img_detected = cv2.imread('fullImage.jpg')\n",
    "\n",
    "#Convert to Grayscale for faster implementation\n",
    "img_gray = cv2.cvtColor(img_rgb, cv2.COLOR_BGR2GRAY)\n",
    "\n",
    "#Arrange templates\n",
    "templates = [cv2.imread('component1.jpg',0),cv2.imread('component2.jpg',0),cv2.imread('component3.jpg',0)]\n",
    "\n",
    "#Thrsholds fow every template\n",
    "thresholds = [0.84,0.75,0.7]\n",
    "\n",
    "result = []\n",
    "width = []\n",
    "height = []"
   ]
  },
  {
   "cell_type": "code",
   "execution_count": 5,
   "metadata": {},
   "outputs": [],
   "source": [
    "#Perform template matching for every template\n",
    "for template in templates:\n",
    "    w, h = template.shape[::-1]\n",
    "    width.append(w)\n",
    "    height.append(h)\n",
    "    result.append(cv2.matchTemplate(img_gray,template,cv2.TM_CCOEFF_NORMED))"
   ]
  },
  {
   "cell_type": "code",
   "execution_count": 6,
   "metadata": {},
   "outputs": [],
   "source": [
    "#Perform iou calculation\n",
    "new_result = []\n",
    "for i in range(3):\n",
    "    new_result.append(iou_implement(result[i],thresholds[i],width[i],height[i]))"
   ]
  },
  {
   "cell_type": "code",
   "execution_count": 7,
   "metadata": {},
   "outputs": [],
   "source": [
    "#Draw the rectangles for each component\n",
    "for pt in new_result[0]:\n",
    "    cv2.rectangle(img_detected, pt, (pt[0] + width[0], pt[1] + height[0]), (100,30,230), 2)\n",
    "\n",
    "for pt in new_result[1]:\n",
    "    cv2.rectangle(img_detected, pt, (pt[0] + width[1], pt[1] + height[1]), (100,230,230), 2)\n",
    "\n",
    "for pt in new_result[2]:\n",
    "    cv2.rectangle(img_detected, pt, (pt[0] + width[2], pt[1] + height[2]), (200,200,200), 2)"
   ]
  },
  {
   "cell_type": "code",
   "execution_count": 8,
   "metadata": {},
   "outputs": [
    {
     "data": {
      "text/plain": [
       "-1"
      ]
     },
     "execution_count": 8,
     "metadata": {},
     "output_type": "execute_result"
    }
   ],
   "source": [
    "# Show the image in new window\n",
    "cv2.imshow('Detected', img_detected)\n",
    "cv2.waitKey(0)"
   ]
  },
  {
   "cell_type": "code",
   "execution_count": null,
   "metadata": {},
   "outputs": [],
   "source": []
  }
 ],
 "metadata": {
  "kernelspec": {
   "display_name": "Python 3",
   "language": "python",
   "name": "python3"
  },
  "language_info": {
   "codemirror_mode": {
    "name": "ipython",
    "version": 3
   },
   "file_extension": ".py",
   "mimetype": "text/x-python",
   "name": "python",
   "nbconvert_exporter": "python",
   "pygments_lexer": "ipython3",
   "version": "3.8.5"
  }
 },
 "nbformat": 4,
 "nbformat_minor": 5
}
